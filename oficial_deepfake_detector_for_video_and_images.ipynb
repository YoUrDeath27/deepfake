{
  "cells": [
    {
      "cell_type": "markdown",
      "metadata": {
        "id": "Ob2NG1ZuvV36"
      },
      "source": [
        "Run at the begining"
      ]
    },
    {
      "cell_type": "code",
      "execution_count": null,
      "metadata": {
        "colab": {
          "base_uri": "https://localhost:8080/"
        },
        "id": "R-v3fYVYvGgm",
        "outputId": "75065c3b-2f12-4ca9-f3df-97c048e0d7dd"
      },
      "outputs": [
        {
          "output_type": "stream",
          "name": "stdout",
          "text": [
            "Cloning into 'icpr2020dfdc'...\n",
            "remote: Enumerating objects: 656, done.\u001b[K\n",
            "remote: Counting objects: 100% (119/119), done.\u001b[K\n",
            "remote: Compressing objects: 100% (36/36), done.\u001b[K\n",
            "remote: Total 656 (delta 101), reused 87 (delta 83), pack-reused 537 (from 1)\u001b[K\n",
            "Receiving objects: 100% (656/656), 99.64 MiB | 18.26 MiB/s, done.\n",
            "Resolving deltas: 100% (341/341), done.\n",
            "Collecting efficientnet-pytorch\n",
            "  Downloading efficientnet_pytorch-0.7.1.tar.gz (21 kB)\n",
            "  Preparing metadata (setup.py) ... \u001b[?25l\u001b[?25hdone\n",
            "Requirement already satisfied: torch in /usr/local/lib/python3.11/dist-packages (from efficientnet-pytorch) (2.5.1+cu121)\n",
            "Requirement already satisfied: filelock in /usr/local/lib/python3.11/dist-packages (from torch->efficientnet-pytorch) (3.16.1)\n",
            "Requirement already satisfied: typing-extensions>=4.8.0 in /usr/local/lib/python3.11/dist-packages (from torch->efficientnet-pytorch) (4.12.2)\n",
            "Requirement already satisfied: networkx in /usr/local/lib/python3.11/dist-packages (from torch->efficientnet-pytorch) (3.4.2)\n",
            "Requirement already satisfied: jinja2 in /usr/local/lib/python3.11/dist-packages (from torch->efficientnet-pytorch) (3.1.5)\n",
            "Requirement already satisfied: fsspec in /usr/local/lib/python3.11/dist-packages (from torch->efficientnet-pytorch) (2024.10.0)\n",
            "Requirement already satisfied: nvidia-cuda-nvrtc-cu12==12.1.105 in /usr/local/lib/python3.11/dist-packages (from torch->efficientnet-pytorch) (12.1.105)\n",
            "Requirement already satisfied: nvidia-cuda-runtime-cu12==12.1.105 in /usr/local/lib/python3.11/dist-packages (from torch->efficientnet-pytorch) (12.1.105)\n",
            "Requirement already satisfied: nvidia-cuda-cupti-cu12==12.1.105 in /usr/local/lib/python3.11/dist-packages (from torch->efficientnet-pytorch) (12.1.105)\n",
            "Requirement already satisfied: nvidia-cudnn-cu12==9.1.0.70 in /usr/local/lib/python3.11/dist-packages (from torch->efficientnet-pytorch) (9.1.0.70)\n",
            "Requirement already satisfied: nvidia-cublas-cu12==12.1.3.1 in /usr/local/lib/python3.11/dist-packages (from torch->efficientnet-pytorch) (12.1.3.1)\n",
            "Requirement already satisfied: nvidia-cufft-cu12==11.0.2.54 in /usr/local/lib/python3.11/dist-packages (from torch->efficientnet-pytorch) (11.0.2.54)\n",
            "Requirement already satisfied: nvidia-curand-cu12==10.3.2.106 in /usr/local/lib/python3.11/dist-packages (from torch->efficientnet-pytorch) (10.3.2.106)\n",
            "Requirement already satisfied: nvidia-cusolver-cu12==11.4.5.107 in /usr/local/lib/python3.11/dist-packages (from torch->efficientnet-pytorch) (11.4.5.107)\n",
            "Requirement already satisfied: nvidia-cusparse-cu12==12.1.0.106 in /usr/local/lib/python3.11/dist-packages (from torch->efficientnet-pytorch) (12.1.0.106)\n",
            "Requirement already satisfied: nvidia-nccl-cu12==2.21.5 in /usr/local/lib/python3.11/dist-packages (from torch->efficientnet-pytorch) (2.21.5)\n",
            "Requirement already satisfied: nvidia-nvtx-cu12==12.1.105 in /usr/local/lib/python3.11/dist-packages (from torch->efficientnet-pytorch) (12.1.105)\n",
            "Requirement already satisfied: triton==3.1.0 in /usr/local/lib/python3.11/dist-packages (from torch->efficientnet-pytorch) (3.1.0)\n",
            "Requirement already satisfied: sympy==1.13.1 in /usr/local/lib/python3.11/dist-packages (from torch->efficientnet-pytorch) (1.13.1)\n",
            "Requirement already satisfied: nvidia-nvjitlink-cu12 in /usr/local/lib/python3.11/dist-packages (from nvidia-cusolver-cu12==11.4.5.107->torch->efficientnet-pytorch) (12.6.85)\n",
            "Requirement already satisfied: mpmath<1.4,>=1.1.0 in /usr/local/lib/python3.11/dist-packages (from sympy==1.13.1->torch->efficientnet-pytorch) (1.3.0)\n",
            "Requirement already satisfied: MarkupSafe>=2.0 in /usr/local/lib/python3.11/dist-packages (from jinja2->torch->efficientnet-pytorch) (3.0.2)\n",
            "Building wheels for collected packages: efficientnet-pytorch\n",
            "  Building wheel for efficientnet-pytorch (setup.py) ... \u001b[?25l\u001b[?25hdone\n",
            "  Created wheel for efficientnet-pytorch: filename=efficientnet_pytorch-0.7.1-py3-none-any.whl size=16424 sha256=31db44e3e54735b644d1be4c2cfd732ef1ac156d8b9c53aa5d14d680bf139a48\n",
            "  Stored in directory: /root/.cache/pip/wheels/8b/6f/9b/231a832f811ab6ebb1b32455b177ffc6b8b1cd8de19de70c09\n",
            "Successfully built efficientnet-pytorch\n",
            "Installing collected packages: efficientnet-pytorch\n",
            "Successfully installed efficientnet-pytorch-0.7.1\n",
            "  Running command git clone --filter=blob:none --quiet https://github.com/albu/albumentations /tmp/pip-req-build-qytakfcs\n",
            "/content/icpr2020dfdc/notebook\n",
            "Requirement already satisfied: Flask in /usr/local/lib/python3.11/dist-packages (3.1.0)\n",
            "Requirement already satisfied: torch in /usr/local/lib/python3.11/dist-packages (2.5.1+cu121)\n",
            "Requirement already satisfied: torchvision in /usr/local/lib/python3.11/dist-packages (0.20.1+cu121)\n",
            "Requirement already satisfied: opencv-python in /usr/local/lib/python3.11/dist-packages (4.10.0.84)\n",
            "Requirement already satisfied: Pillow in /usr/local/lib/python3.11/dist-packages (11.1.0)\n",
            "Requirement already satisfied: matplotlib in /usr/local/lib/python3.11/dist-packages (3.10.0)\n",
            "Collecting pyngrok\n",
            "  Downloading pyngrok-7.2.3-py3-none-any.whl.metadata (8.7 kB)\n",
            "Requirement already satisfied: Werkzeug>=3.1 in /usr/local/lib/python3.11/dist-packages (from Flask) (3.1.3)\n",
            "Requirement already satisfied: Jinja2>=3.1.2 in /usr/local/lib/python3.11/dist-packages (from Flask) (3.1.5)\n",
            "Requirement already satisfied: itsdangerous>=2.2 in /usr/local/lib/python3.11/dist-packages (from Flask) (2.2.0)\n",
            "Requirement already satisfied: click>=8.1.3 in /usr/local/lib/python3.11/dist-packages (from Flask) (8.1.8)\n",
            "Requirement already satisfied: blinker>=1.9 in /usr/local/lib/python3.11/dist-packages (from Flask) (1.9.0)\n",
            "Requirement already satisfied: filelock in /usr/local/lib/python3.11/dist-packages (from torch) (3.16.1)\n",
            "Requirement already satisfied: typing-extensions>=4.8.0 in /usr/local/lib/python3.11/dist-packages (from torch) (4.12.2)\n",
            "Requirement already satisfied: networkx in /usr/local/lib/python3.11/dist-packages (from torch) (3.4.2)\n",
            "Requirement already satisfied: fsspec in /usr/local/lib/python3.11/dist-packages (from torch) (2024.10.0)\n",
            "Requirement already satisfied: nvidia-cuda-nvrtc-cu12==12.1.105 in /usr/local/lib/python3.11/dist-packages (from torch) (12.1.105)\n",
            "Requirement already satisfied: nvidia-cuda-runtime-cu12==12.1.105 in /usr/local/lib/python3.11/dist-packages (from torch) (12.1.105)\n",
            "Requirement already satisfied: nvidia-cuda-cupti-cu12==12.1.105 in /usr/local/lib/python3.11/dist-packages (from torch) (12.1.105)\n",
            "Requirement already satisfied: nvidia-cudnn-cu12==9.1.0.70 in /usr/local/lib/python3.11/dist-packages (from torch) (9.1.0.70)\n",
            "Requirement already satisfied: nvidia-cublas-cu12==12.1.3.1 in /usr/local/lib/python3.11/dist-packages (from torch) (12.1.3.1)\n",
            "Requirement already satisfied: nvidia-cufft-cu12==11.0.2.54 in /usr/local/lib/python3.11/dist-packages (from torch) (11.0.2.54)\n",
            "Requirement already satisfied: nvidia-curand-cu12==10.3.2.106 in /usr/local/lib/python3.11/dist-packages (from torch) (10.3.2.106)\n",
            "Requirement already satisfied: nvidia-cusolver-cu12==11.4.5.107 in /usr/local/lib/python3.11/dist-packages (from torch) (11.4.5.107)\n",
            "Requirement already satisfied: nvidia-cusparse-cu12==12.1.0.106 in /usr/local/lib/python3.11/dist-packages (from torch) (12.1.0.106)\n",
            "Requirement already satisfied: nvidia-nccl-cu12==2.21.5 in /usr/local/lib/python3.11/dist-packages (from torch) (2.21.5)\n",
            "Requirement already satisfied: nvidia-nvtx-cu12==12.1.105 in /usr/local/lib/python3.11/dist-packages (from torch) (12.1.105)\n",
            "Requirement already satisfied: triton==3.1.0 in /usr/local/lib/python3.11/dist-packages (from torch) (3.1.0)\n",
            "Requirement already satisfied: sympy==1.13.1 in /usr/local/lib/python3.11/dist-packages (from torch) (1.13.1)\n",
            "Requirement already satisfied: nvidia-nvjitlink-cu12 in /usr/local/lib/python3.11/dist-packages (from nvidia-cusolver-cu12==11.4.5.107->torch) (12.6.85)\n",
            "Requirement already satisfied: mpmath<1.4,>=1.1.0 in /usr/local/lib/python3.11/dist-packages (from sympy==1.13.1->torch) (1.3.0)\n",
            "Requirement already satisfied: numpy in /usr/local/lib/python3.11/dist-packages (from torchvision) (1.26.4)\n",
            "Requirement already satisfied: contourpy>=1.0.1 in /usr/local/lib/python3.11/dist-packages (from matplotlib) (1.3.1)\n",
            "Requirement already satisfied: cycler>=0.10 in /usr/local/lib/python3.11/dist-packages (from matplotlib) (0.12.1)\n",
            "Requirement already satisfied: fonttools>=4.22.0 in /usr/local/lib/python3.11/dist-packages (from matplotlib) (4.55.3)\n",
            "Requirement already satisfied: kiwisolver>=1.3.1 in /usr/local/lib/python3.11/dist-packages (from matplotlib) (1.4.8)\n",
            "Requirement already satisfied: packaging>=20.0 in /usr/local/lib/python3.11/dist-packages (from matplotlib) (24.2)\n",
            "Requirement already satisfied: pyparsing>=2.3.1 in /usr/local/lib/python3.11/dist-packages (from matplotlib) (3.2.1)\n",
            "Requirement already satisfied: python-dateutil>=2.7 in /usr/local/lib/python3.11/dist-packages (from matplotlib) (2.8.2)\n",
            "Requirement already satisfied: PyYAML>=5.1 in /usr/local/lib/python3.11/dist-packages (from pyngrok) (6.0.2)\n",
            "Requirement already satisfied: MarkupSafe>=2.0 in /usr/local/lib/python3.11/dist-packages (from Jinja2>=3.1.2->Flask) (3.0.2)\n",
            "Requirement already satisfied: six>=1.5 in /usr/local/lib/python3.11/dist-packages (from python-dateutil>=2.7->matplotlib) (1.17.0)\n",
            "Downloading pyngrok-7.2.3-py3-none-any.whl (23 kB)\n",
            "Installing collected packages: pyngrok\n",
            "Successfully installed pyngrok-7.2.3\n"
          ]
        }
      ],
      "source": [
        "!git clone https://github.com/polimi-ispl/icpr2020dfdc\n",
        "!pip install efficientnet-pytorch\n",
        "!pip install -U git+https://github.com/albu/albumentations > /dev/null\n",
        "%cd icpr2020dfdc/notebook\n",
        "!pip install Flask torch torchvision opencv-python Pillow matplotlib pyngrok"
      ]
    },
    {
      "cell_type": "markdown",
      "metadata": {
        "id": "PXETuNBkveDX"
      },
      "source": [
        "Then run this :"
      ]
    },
    {
      "cell_type": "code",
      "execution_count": null,
      "metadata": {
        "colab": {
          "base_uri": "https://localhost:8080/"
        },
        "id": "KymYTfECvlys",
        "outputId": "dc08bb0c-3e94-415c-b892-7ac31c2ef20c"
      },
      "outputs": [
        {
          "output_type": "stream",
          "name": "stderr",
          "text": [
            "Downloading: \"https://github.com/lukemelas/EfficientNet-PyTorch/releases/download/1.0/efficientnet-b4-6ed6700e.pth\" to /root/.cache/torch/hub/checkpoints/efficientnet-b4-6ed6700e.pth\n",
            "100%|██████████| 74.4M/74.4M [00:00<00:00, 119MB/s]\n",
            "Downloading: \"https://f002.backblazeb2.com/file/icpr2020/EfficientNetAutoAttB4_DFDC_bestval-72ed969b2a395fffe11a0d5bf0a635e7260ba2588c28683630d97ff7153389fc.pth\" to /root/.cache/torch/hub/checkpoints/EfficientNetAutoAttB4_DFDC_bestval-72ed969b2a395fffe11a0d5bf0a635e7260ba2588c28683630d97ff7153389fc.pth\n"
          ]
        },
        {
          "output_type": "stream",
          "name": "stdout",
          "text": [
            "Loaded pretrained weights for efficientnet-b4\n"
          ]
        },
        {
          "output_type": "stream",
          "name": "stderr",
          "text": [
            "100%|██████████| 33.9M/33.9M [00:00<00:00, 51.1MB/s]\n"
          ]
        },
        {
          "output_type": "stream",
          "name": "stdout",
          "text": [
            "Downloading ngrok ...\r"
          ]
        },
        {
          "output_type": "stream",
          "name": "stderr",
          "text": [
            "/content/icpr2020dfdc/notebook/../isplutils/utils.py:155: UserWarning: Argument 'value' is not valid and will be ignored.\n",
            "  A.PadIfNeeded(min_height=patch_size, min_width=patch_size,\n",
            "/content/icpr2020dfdc/notebook/../isplutils/utils.py:155: UserWarning: Argument 'always_apply' is not valid and will be ignored.\n",
            "  A.PadIfNeeded(min_height=patch_size, min_width=patch_size,\n",
            "/content/icpr2020dfdc/notebook/../isplutils/utils.py:157: UserWarning: Argument 'always_apply' is not valid and will be ignored.\n",
            "  A.Resize(height=patch_size,width=patch_size,always_apply=True),\n",
            "/content/icpr2020dfdc/notebook/../blazeface/blazeface.py:164: FutureWarning: You are using `torch.load` with `weights_only=False` (the current default value), which uses the default pickle module implicitly. It is possible to construct malicious pickle data which will execute arbitrary code during unpickling (See https://github.com/pytorch/pytorch/blob/main/SECURITY.md#untrusted-models for more details). In a future release, the default value for `weights_only` will be flipped to `True`. This limits the functions that could be executed during unpickling. Arbitrary objects will no longer be allowed to be loaded via this mode unless they are explicitly allowlisted by the user via `torch.serialization.add_safe_globals`. We recommend you start setting `weights_only=True` for any use case where you don't have full control of the loaded file. Please open an issue on GitHub for any issues related to this experimental feature.\n",
            "  self.load_state_dict(torch.load(path))\n"
          ]
        },
        {
          "output_type": "stream",
          "name": "stdout",
          "text": [
            " * ngrok tunnel \"NgrokTunnel: \"https://7bef-34-82-142-147.ngrok-free.app\" -> \"http://localhost:5000\"\" \n",
            " * Serving Flask app '__main__'\n",
            " * Debug mode: off\n"
          ]
        },
        {
          "output_type": "stream",
          "name": "stderr",
          "text": [
            "INFO:werkzeug:\u001b[31m\u001b[1mWARNING: This is a development server. Do not use it in a production deployment. Use a production WSGI server instead.\u001b[0m\n",
            " * Running on http://127.0.0.1:5000\n",
            "INFO:werkzeug:\u001b[33mPress CTRL+C to quit\u001b[0m\n",
            "INFO:werkzeug:127.0.0.1 - - [18/Jan/2025 07:04:05] \"GET / HTTP/1.1\" 200 -\n",
            "INFO:werkzeug:127.0.0.1 - - [18/Jan/2025 07:04:06] \"\u001b[33mGET /favicon.ico HTTP/1.1\u001b[0m\" 404 -\n"
          ]
        }
      ],
      "source": [
        "# Step 1: Import Required Libraries\n",
        "from flask import Flask, request\n",
        "import torch\n",
        "from torch.utils.model_zoo import load_url\n",
        "import cv2\n",
        "import os\n",
        "from pyngrok import ngrok\n",
        "from PIL import Image\n",
        "from werkzeug.utils import secure_filename\n",
        "\n",
        "import sys\n",
        "sys.path.append('..')\n",
        "\n",
        "# Import your custom modules (make sure these are available in your environment)\n",
        "from blazeface import FaceExtractor, BlazeFace\n",
        "from architectures import fornet, weights\n",
        "from isplutils import utils\n",
        "\n",
        "app = Flask(__name__)\n",
        "\n",
        "# Step 2: Load Your Model and Weights\n",
        "net_model = 'EfficientNetAutoAttB4'\n",
        "train_db = 'DFDC'\n",
        "\n",
        "device = torch.device('cuda:0') if torch.cuda.is_available() else torch.device('cpu')\n",
        "face_policy = 'scale'\n",
        "face_size = 224\n",
        "\n",
        "model_url = weights.weight_url['{:s}_{:s}'.format(net_model,train_db)]\n",
        "net = getattr(fornet,net_model)().eval().to(device)\n",
        "net.load_state_dict(load_url(model_url,map_location=device,check_hash=True))\n",
        "\n",
        "transf = utils.get_transformer(face_policy, face_size, net.get_normalizer(), train=False)\n",
        "\n",
        "facedet = BlazeFace().to(device)\n",
        "facedet.load_weights(\"../blazeface/blazeface.pth\")\n",
        "facedet.load_anchors(\"../blazeface/anchors.npy\")\n",
        "face_extractor = FaceExtractor(facedet=facedet)\n",
        "\n",
        "@app.route('/')\n",
        "def index():\n",
        "    return '''\n",
        "    <h1>Upload an Image, Video, or GIF</h1>\n",
        "    <form action=\"/upload\" method=\"post\" enctype=\"multipart/form-data\">\n",
        "        <input type=\"file\" name=\"file\" accept=\"image/*,video/*,.gif\" required>\n",
        "        <input type=\"submit\" value=\"Upload\">\n",
        "    </form>\n",
        "    '''\n",
        "\n",
        "# Specify the upload folder\n",
        "upload = '/content/uploads'\n",
        "app.config['UPLOAD_FOLDER'] = upload\n",
        "\n",
        "# Create the upload folder if it doesn't exist\n",
        "if not os.path.exists(app.config['UPLOAD_FOLDER']):\n",
        "    os.makedirs(app.config['UPLOAD_FOLDER'])\n",
        "\n",
        "@app.route('/upload', methods=['POST'])\n",
        "def upload_file():\n",
        "    if request.method == 'POST':\n",
        "        file = request.files['file']\n",
        "\n",
        "        # Secure the filename and save the file\n",
        "        filename = secure_filename(file.filename)\n",
        "        file_path = os.path.join(app.config['UPLOAD_FOLDER'], filename)\n",
        "        file.save(file_path)  # Save the file\n",
        "        result = None\n",
        "\n",
        "        # Process the file based on its type\n",
        "        if file.filename.endswith(('.mp4', '.avi', '.mov')):\n",
        "            result = process(file_path)\n",
        "        elif file.filename.endswith(('.jpg', '.jpeg', '.png', '.gif')):\n",
        "            result =  process(file_path)\n",
        "        else:\n",
        "          result = \"Unsupported file type.\"\n",
        "\n",
        "        # Return the result and render the upload form again\n",
        "\n",
        "        return f'''\n",
        "          <!DOCTYPE html>\n",
        "          <html lang=\"en\">\n",
        "          <head>\n",
        "              <meta charset=\"UTF-8\">\n",
        "              <meta name=\"viewport\" content=\"width=device-width, initial-scale=1.0\">\n",
        "              <title>Upload File</title>\n",
        "          </head>\n",
        "          <body>\n",
        "              <h1>Upload an Image, Video, or GIF</h1>\n",
        "              <form action=\"/upload\" method=\"post\" enctype=\"multipart/form-data\">\n",
        "                  <input type=\"file\" name=\"file\" accept=\"image/*,video/*,.gif\" required>\n",
        "                  <input type=\"submit\" value =\"Upload\">\n",
        "              </form>\n",
        "\n",
        "              <h2>Result:</h2>\n",
        "              <p>{result}</p>\n",
        "          </body>\n",
        "          </html>\n",
        "          '''\n",
        "def process(detect_path):\n",
        "    cam = cv2.VideoCapture(detect_path)\n",
        "    last_frame = None\n",
        "\n",
        "    while True:\n",
        "        ret, frame = cam.read()\n",
        "        if ret:\n",
        "            last_frame = frame\n",
        "        else:\n",
        "            break\n",
        "\n",
        "    cam.release()\n",
        "\n",
        "    if last_frame is not None:\n",
        "        return analyze_frame(last_frame)\n",
        "    else:\n",
        "        return \"No frames detected\"\n",
        "\n",
        "def analyze_frame(frame):\n",
        "    # Check if the frame is empty\n",
        "    if frame is None or frame.size == 0:\n",
        "        return \"Error: The frame is empty.\"\n",
        "\n",
        "    # Convert BGR to RGB\n",
        "    frame_rgb = cv2.cvtColor(frame, cv2.COLOR_BGR2RGB)\n",
        "\n",
        "    # Extract face\n",
        "    image_face = face_extractor.process_image(img=frame_rgb)\n",
        "    if 'faces' in image_face and len(image_face['faces']) > 0:\n",
        "        image_face = image_face['faces'][0]\n",
        "    else:\n",
        "        return \"No face detected\"\n",
        "\n",
        "    # Prepare the face for prediction\n",
        "    faces_t = torch.stack([transf(image=im)['image'] for im in [image_face]])\n",
        "\n",
        "    with torch.no_grad():\n",
        "        faces_pred = torch.sigmoid(net(faces_t.to(device))).cpu().numpy().flatten()\n",
        "\n",
        "    # Print scores\n",
        "    score = faces_pred[0]\n",
        "    result = \"Image is fake\" if score > 0.5 else \"Image is real\"\n",
        "    return f'Score for face: {score:.5f}. {result}'\n",
        "\n",
        "# Step 3: Start the Flask App\n",
        "if __name__ == '__main__':\n",
        "    # Start ngrok\n",
        "    ngrok.set_auth_token('2rTV3LPAsyBUa3eHsXv7V6kpGb1_25Tcwtwofie8Vi2rh1DFb')  # This is my token, but ig you can use it too\n",
        "    public_url = ngrok.connect(5000)\n",
        "    print(f' * ngrok tunnel \"{public_url}\" ')\n",
        "\n",
        "    app.run(port=5000)"
      ]
    }
  ],
  "metadata": {
    "colab": {
      "provenance": []
    },
    "kernelspec": {
      "display_name": "Python 3",
      "name": "python3"
    },
    "language_info": {
      "name": "python"
    }
  },
  "nbformat": 4,
  "nbformat_minor": 0
}